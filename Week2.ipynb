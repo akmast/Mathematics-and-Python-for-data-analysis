{
 "cells": [
  {
   "cell_type": "code",
   "execution_count": 75,
   "metadata": {},
   "outputs": [
    {
     "name": "stdout",
     "output_type": "stream",
     "text": [
      "6  :   0.732738758088\n",
      "4  :   0.77708871497\n",
      "21  :   0.825036446944\n",
      "10  :   0.832816536227\n",
      "12  :   0.839643254853\n",
      "16  :   0.840636185422\n",
      "20  :   0.842757274492\n",
      "2  :   0.864473814564\n",
      "13  :   0.87035925529\n",
      "14  :   0.87401184233\n",
      "11  :   0.880477139067\n",
      "8  :   0.884272487528\n",
      "19  :   0.888544357485\n",
      "3  :   0.895171516328\n",
      "9  :   0.905508881748\n",
      "7  :   0.925875068334\n",
      "5  :   0.940238569533\n",
      "18  :   0.944272178742\n",
      "18  :   0.944272178742\n",
      "1  :   0.952754440874\n",
      "17  :   0.956644501524\n"
     ]
    }
   ],
   "source": [
    "import numpy as np\n",
    "from scipy.spatial.distance import cosine\n",
    "\n",
    "f = open('_3a8d746cf4d86fba2f31586f239d11fd_sentences.txt', 'r')\n",
    "\n",
    "sentences = []\n",
    "all_words = set()\n",
    "\n",
    "\n",
    "for line in f:\n",
    "    sentence = [word for word in re.split('[^a-z]', line.lower()) if word != '']\n",
    "    sentences.append(sentence)\n",
    "    \n",
    "    for word in sentence:\n",
    "        all_words.add(word)\n",
    "\n",
    "f.close()\n",
    "        \n",
    "all_words_dict = {}\n",
    "i = 0\n",
    "for word in all_words:\n",
    "    all_words_dict[i] = word\n",
    "    i += 1\n",
    "\n",
    "\n",
    "matrix = []\n",
    "for i in range(len(sentences)):\n",
    "    matrix.append([])\n",
    "\n",
    "\n",
    "for i in range(len(sentences)):\n",
    "    for j in all_words_dict.keys():\n",
    "        matrix[i].append(sentences[i].count(all_words_dict[j]))\n",
    "        \n",
    "matrix = np.array(matrix)\n",
    "    \n",
    "distances_dict = {}\n",
    "distances_list = []\n",
    "    \n",
    "for i in range(matrix.shape[0]):\n",
    "    distances_dict[cosine(matrix[0, :], matrix[i, :])] = i\n",
    "    distances_list.append(cosine(matrix[0, :], matrix[i, :]))\n",
    "\n",
    "distances_list.sort()\n",
    "\n",
    "\n",
    "for i in distances_list[1:]:\n",
    "    print(distances_dict[i], ' :  ', i)\n",
    "    \n",
    "\n"
   ]
  }
 ],
 "metadata": {
  "anaconda-cloud": {},
  "kernelspec": {
   "display_name": "Python 3",
   "language": "python",
   "name": "python3"
  },
  "language_info": {
   "codemirror_mode": {
    "name": "ipython",
    "version": 3
   },
   "file_extension": ".py",
   "mimetype": "text/x-python",
   "name": "python",
   "nbconvert_exporter": "python",
   "pygments_lexer": "ipython3",
   "version": "3.6.3"
  }
 },
 "nbformat": 4,
 "nbformat_minor": 1
}
